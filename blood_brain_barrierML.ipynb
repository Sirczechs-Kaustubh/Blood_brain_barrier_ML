{
  "nbformat": 4,
  "nbformat_minor": 0,
  "metadata": {
    "colab": {
      "provenance": [],
      "mount_file_id": "1Hzul_EaQQJNOJGisHUx4hK5jOc83ECbV",
      "authorship_tag": "ABX9TyNbtKYu+mVGw3TUhvogKzSK",
      "include_colab_link": true
    },
    "kernelspec": {
      "name": "python3",
      "display_name": "Python 3"
    },
    "language_info": {
      "name": "python"
    }
  },
  "cells": [
    {
      "cell_type": "markdown",
      "metadata": {
        "id": "view-in-github",
        "colab_type": "text"
      },
      "source": [
        "<a href=\"https://colab.research.google.com/github/Sirczechs-Kaustubh/Blood_brain_barrier_ML/blob/main/blood_brain_barrierML.ipynb\" target=\"_parent\"><img src=\"https://colab.research.google.com/assets/colab-badge.svg\" alt=\"Open In Colab\"/></a>"
      ]
    },
    {
      "cell_type": "code",
      "execution_count": null,
      "metadata": {
        "id": "Vc4ehBq0SBH5"
      },
      "outputs": [],
      "source": [
        "!pip install rdkit-pypi"
      ]
    },
    {
      "cell_type": "code",
      "source": [
        "from rdkit import Chem"
      ],
      "metadata": {
        "id": "FMp4eTwlSNkk"
      },
      "execution_count": null,
      "outputs": []
    },
    {
      "cell_type": "code",
      "source": [
        "m = Chem.MolFromSmiles('CC(=O)NC1=CC=C(C=C1)O')"
      ],
      "metadata": {
        "id": "pxq0sHsESW63"
      },
      "execution_count": null,
      "outputs": []
    },
    {
      "cell_type": "code",
      "source": [
        "from rdkit.Chem import Draw\n",
        "img = Draw.MolToImage(m)\n",
        "img"
      ],
      "metadata": {
        "id": "l5rUsIpOSaYY"
      },
      "execution_count": null,
      "outputs": []
    },
    {
      "cell_type": "code",
      "source": [
        "m.GetNumAtoms()\n"
      ],
      "metadata": {
        "id": "5DUMqJvkSc6f"
      },
      "execution_count": null,
      "outputs": []
    },
    {
      "cell_type": "code",
      "source": [
        "m2 = Chem.AddHs(m)\n",
        "m2.GetNumAtoms()"
      ],
      "metadata": {
        "id": "71Ocb20jTKuc"
      },
      "execution_count": null,
      "outputs": []
    },
    {
      "cell_type": "code",
      "source": [
        "img = Draw.MolToImage(m2)\n",
        "img"
      ],
      "metadata": {
        "id": "l6AnQoZBTVA6"
      },
      "execution_count": null,
      "outputs": []
    },
    {
      "cell_type": "code",
      "source": [
        "from rdkit.Chem import Descriptors\n",
        "Descriptors.MolWt(m)"
      ],
      "metadata": {
        "id": "6sFnKqIKTY6S"
      },
      "execution_count": null,
      "outputs": []
    },
    {
      "cell_type": "code",
      "source": [
        "from rdkit import DataStructs\n",
        "from rdkit.Chem import AllChem\n",
        "\n",
        "mol1 = Chem.MolFromSmiles('CC(=O)NC1=CC=C(C=C1)O') # Paracetamol\n",
        "mol2 = Chem.MolFromSmiles('CN1C=NC2=C1C(=O)N(C(=O)N2C)C') # Caffeine\n",
        "mol3 = Chem.MolFromSmiles('CN1C2=C(C(=O)N(C1=O)C)NC=N2') # Theophylline\n",
        "\n",
        "fp1 = AllChem.GetMorganFingerprint(mol1, 4)\n",
        "fp2 = AllChem.GetMorganFingerprint(mol2, 4)\n",
        "fp3 = AllChem.GetMorganFingerprint(mol3, 4)\n",
        "\n",
        "print(f\"Para-Caff-{DataStructs.TanimotoSimilarity(fp1, fp2)}\\nPara-Theo-{DataStructs.TanimotoSimilarity(fp1, fp3)}\\nCaff-Theo-{DataStructs.TanimotoSimilarity(fp2, fp3)}\")"
      ],
      "metadata": {
        "id": "6dhA-_dWTdcS"
      },
      "execution_count": null,
      "outputs": []
    },
    {
      "cell_type": "code",
      "source": [
        "print(mol2)"
      ],
      "metadata": {
        "id": "ivetMXtjWLsH"
      },
      "execution_count": null,
      "outputs": []
    },
    {
      "cell_type": "code",
      "source": [
        "from rdkit.Chem.Draw import SimilarityMaps\n",
        "\n",
        "AllChem.ComputeGasteigerCharges(mol2)\n",
        "contribs = [mol2.GetAtomWithIdx(i).GetDoubleProp('_GasteigerCharge') for i in range(mol2.GetNumAtoms())]\n",
        "fig = SimilarityMaps.GetSimilarityMapFromWeights(mol2, contribs, colorMap='Blues', contourLines=10)"
      ],
      "metadata": {
        "id": "W5o7nh1GTn7O"
      },
      "execution_count": null,
      "outputs": []
    },
    {
      "cell_type": "code",
      "source": [
        "import pandas as pd\n",
        "import numpy as np\n",
        "from rdkit import Chem\n",
        "from rdkit import DataStructs\n",
        "from rdkit.Chem import AllChem\n",
        "#import rdkit.Chem\n",
        "from rdkit.ML.Descriptors.MoleculeDescriptors import MolecularDescriptorCalculator\n",
        "from rdkit.ML.Descriptors import MoleculeDescriptors\n",
        "from rdkit.Chem import Descriptors"
      ],
      "metadata": {
        "id": "e_ppP4x3VTJp"
      },
      "execution_count": null,
      "outputs": []
    },
    {
      "cell_type": "code",
      "source": [
        "data_drug = pd.read_excel('/content/BBB_datasets.xlsx')"
      ],
      "metadata": {
        "id": "yYqwlY66XugT"
      },
      "execution_count": null,
      "outputs": []
    },
    {
      "cell_type": "code",
      "source": [
        "data_drug.head()"
      ],
      "metadata": {
        "id": "wB4V_ATHYzuL"
      },
      "execution_count": null,
      "outputs": []
    },
    {
      "cell_type": "code",
      "source": [
        "smiles = data_drug['SMILES']\n",
        "mol_descriptors = []"
      ],
      "metadata": {
        "id": "5B28WJJjY3qo"
      },
      "execution_count": null,
      "outputs": []
    },
    {
      "cell_type": "code",
      "source": [
        "data_drug['SMILES']"
      ],
      "metadata": {
        "id": "9Bq4vS-nY86X"
      },
      "execution_count": null,
      "outputs": []
    },
    {
      "cell_type": "code",
      "source": [
        "for i in data_drug['SMILES']:\n",
        "    moler = Chem.MolFromSmiles(i)\n",
        "    if True:\n",
        "        try:\n",
        "            calc = MoleculeDescriptors.MolecularDescriptorCalculator([x[0] for x in Descriptors._descList])\n",
        "            vector = calc.CalcDescriptors(moler)\n",
        "            mol_descriptors.append(vector)\n",
        "        except:\n",
        "            print(i)\n"
      ],
      "metadata": {
        "id": "t3v9x-soaoL0"
      },
      "execution_count": null,
      "outputs": []
    },
    {
      "cell_type": "code",
      "source": [
        "# create an array of the 200 mol descriptors\n",
        "cols_mols = np.asarray(Descriptors._descList)\n",
        "\n",
        "desc_df = pd.DataFrame(mol_descriptors, columns = cols_mols)\n"
      ],
      "metadata": {
        "id": "BY6MkpD_eGMG"
      },
      "execution_count": null,
      "outputs": []
    },
    {
      "cell_type": "code",
      "source": [
        "desc_df.head()"
      ],
      "metadata": {
        "id": "BDeVa33ceRw0"
      },
      "execution_count": null,
      "outputs": []
    },
    {
      "cell_type": "code",
      "source": [
        "data_drug.head()"
      ],
      "metadata": {
        "id": "wlb7brwBerBW"
      },
      "execution_count": null,
      "outputs": []
    },
    {
      "cell_type": "code",
      "source": [
        "desc_df.columns"
      ],
      "metadata": {
        "id": "J0kZelPpgZtV"
      },
      "execution_count": null,
      "outputs": []
    },
    {
      "cell_type": "code",
      "source": [
        "# Get the current column names\n",
        "old_names = desc_df.columns.tolist()\n",
        "\n",
        "# Create a dictionary mapping old names to new names\n",
        "new_names = {old: str(i) for i, old in enumerate(old_names)}\n",
        "\n",
        "# Rename the columns\n",
        "desc_df.rename(columns=new_names, inplace=True)\n"
      ],
      "metadata": {
        "id": "CLVKE6__gJnl"
      },
      "execution_count": null,
      "outputs": []
    },
    {
      "cell_type": "code",
      "source": [
        "desc_df.head()"
      ],
      "metadata": {
        "id": "KEe9XUJUg4D5"
      },
      "execution_count": null,
      "outputs": []
    },
    {
      "cell_type": "code",
      "source": [
        "data_drug[\"Class\"].unique()"
      ],
      "metadata": {
        "id": "b8K4QbO-idRg"
      },
      "execution_count": null,
      "outputs": []
    },
    {
      "cell_type": "code",
      "source": [
        "desc_df[\"Label\"] = data_drug[\"Class\"].map({'BBB+': 1, 'BBB-': 0})"
      ],
      "metadata": {
        "id": "qd75eznHiKZC"
      },
      "execution_count": null,
      "outputs": []
    },
    {
      "cell_type": "code",
      "source": [
        "desc_df.head()"
      ],
      "metadata": {
        "id": "cqcTv8JNitNk"
      },
      "execution_count": null,
      "outputs": []
    },
    {
      "cell_type": "code",
      "source": [
        "desc_df.isna().sum().sum()"
      ],
      "metadata": {
        "id": "XDAP48f6iu_8"
      },
      "execution_count": null,
      "outputs": []
    },
    {
      "cell_type": "code",
      "source": [
        "desc_df=desc_df.dropna()"
      ],
      "metadata": {
        "id": "7MukcYQvi5tR"
      },
      "execution_count": null,
      "outputs": []
    },
    {
      "cell_type": "code",
      "source": [
        "desc_df.isna().sum().sum()"
      ],
      "metadata": {
        "id": "r3tD7WZ3jAxt"
      },
      "execution_count": null,
      "outputs": []
    },
    {
      "cell_type": "code",
      "source": [
        "import matplotlib.pyplot as plt\n",
        "\n",
        "desc_df['Label'].value_counts().plot(kind='bar')\n",
        "plt.xlabel('Class')\n",
        "plt.ylabel('Frequency')\n",
        "plt.show()"
      ],
      "metadata": {
        "id": "f2PwW5yHjCL8"
      },
      "execution_count": null,
      "outputs": []
    },
    {
      "cell_type": "code",
      "source": [
        "# Theres a class imbalance\n",
        "# 400 positive labels and 200 Negative labels"
      ],
      "metadata": {
        "id": "oWkyX9E5jyJo"
      },
      "execution_count": null,
      "outputs": []
    },
    {
      "cell_type": "code",
      "source": [
        "from imblearn.under_sampling import RandomUnderSampler\n",
        "from imblearn.over_sampling import RandomOverSampler, SMOTE\n",
        "from sklearn.preprocessing import StandardScaler\n",
        "from sklearn.pipeline import make_pipeline\n",
        "from sklearn.linear_model import LogisticRegression\n",
        "\n",
        "from sklearn.model_selection import train_test_split\n",
        "from sklearn.neural_network import MLPClassifier\n",
        "from sklearn.neighbors import KNeighborsClassifier\n",
        "\n",
        "from sklearn.metrics import accuracy_score, f1_score, matthews_corrcoef\n"
      ],
      "metadata": {
        "id": "OgpsMsfUlCZD"
      },
      "execution_count": null,
      "outputs": []
    },
    {
      "cell_type": "code",
      "source": [
        "from sklearn.svm import SVC\n",
        "X = desc_df.drop('Label', axis=1)\n",
        "y = desc_df['Label']\n",
        "\n",
        "# Define random state for reproducibility\n",
        "random_state = 410\n",
        "\n",
        "# Split the data into training and test sets\n",
        "X_train, X_test, y_train, y_test = train_test_split(X, y, test_size=0.2, random_state=random_state)\n",
        "\n",
        "# Create a RandomOverSampler object\n",
        "ros = RandomOverSampler(random_state=random_state)\n",
        "\n",
        "# Fit and apply the transform\n",
        "X_resampled, y_resampled = ros.fit_resample(X_train, y_train)\n",
        "\n",
        "# Create a pipeline with a standard scaler\n",
        "pipeline = make_pipeline(StandardScaler(),SVC(gamma=\"auto\",random_state=random_state))\n",
        "\n",
        "# Fit the pipeline to the resampled data\n",
        "pipeline.fit(X_resampled, y_resampled)"
      ],
      "metadata": {
        "id": "V3i1oaEBlDKR"
      },
      "execution_count": null,
      "outputs": []
    },
    {
      "cell_type": "code",
      "source": [
        "y_pred = pipeline.predict(X_test)\n",
        "f1 = f1_score(y_pred,y_test,pos_label=1)\n",
        "accuracy = accuracy_score(y_pred,y_test)\n"
      ],
      "metadata": {
        "id": "u_U2PgV6RCsy"
      },
      "execution_count": null,
      "outputs": []
    },
    {
      "cell_type": "code",
      "source": [
        "from sklearn.metrics import confusion_matrix, ConfusionMatrixDisplay\n",
        "cm = confusion_matrix(y_test, y_pred)\n",
        "plt.figure(figsize=(8, 8))\n",
        "disp = ConfusionMatrixDisplay(confusion_matrix=cm, display_labels=np.unique(y_test))\n",
        "disp.plot()\n",
        "plt.title('Confusion Matrix for SVM Classifier')\n",
        "plt.show()"
      ],
      "metadata": {
        "id": "oCTEvgIgU0-Q"
      },
      "execution_count": null,
      "outputs": []
    },
    {
      "cell_type": "code",
      "source": [
        "print(f\"Accuracy using SVM {accuracy}\\nF1 Score of SVM {f1}\")\n"
      ],
      "metadata": {
        "id": "CTVH5NsOVgOo"
      },
      "execution_count": null,
      "outputs": []
    },
    {
      "cell_type": "code",
      "source": [],
      "metadata": {
        "id": "RQNmak6aVwqI"
      },
      "execution_count": null,
      "outputs": []
    }
  ]
}